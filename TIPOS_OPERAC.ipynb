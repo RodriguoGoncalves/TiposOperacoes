{
  "nbformat": 4,
  "nbformat_minor": 0,
  "metadata": {
    "colab": {
      "name": "TIPOS_OPERAC",
      "provenance": [],
      "collapsed_sections": [],
      "authorship_tag": "ABX9TyO/GIuF40owupgisDmUiLRu",
      "include_colab_link": true
    },
    "kernelspec": {
      "name": "python3",
      "display_name": "Python 3"
    },
    "language_info": {
      "name": "python"
    }
  },
  "cells": [
    {
      "cell_type": "markdown",
      "metadata": {
        "id": "view-in-github",
        "colab_type": "text"
      },
      "source": [
        "<a href=\"https://colab.research.google.com/github/RodriguoGoncalves/TiposOperacoes/blob/main/TIPOS_OPERAC.ipynb\" target=\"_parent\"><img src=\"https://colab.research.google.com/assets/colab-badge.svg\" alt=\"Open In Colab\"/></a>"
      ]
    },
    {
      "cell_type": "markdown",
      "source": [
        "\n",
        "\n",
        "# ***Funções, Tipos, Operações, Listas***\n",
        "\n"
      ],
      "metadata": {
        "id": "ZzCgfdQ3fkHe"
      }
    },
    {
      "cell_type": "markdown",
      "source": [
        "\n",
        "\n",
        "> Funções:\n",
        "\n",
        "\n",
        "*   Print()\n",
        "*   Input()\n",
        "\n",
        "\n",
        "\n"
      ],
      "metadata": {
        "id": "2kqm6FBDy2Gl"
      }
    },
    {
      "cell_type": "markdown",
      "source": [
        "\n",
        "* `Função Print:` Exibe na tela o valor do tipo string que está entre parênteses.  Quando o Python executa essa linha, dizemos que ele está\n",
        "  *chamando a função print()* e que o valor do tipo string está sendo passado para a função. Um valor passado para uma função chama-se **argumento**.<br><br>\n",
        "Observe que as aspas não são exibidas na tela. Elas simplesmente marcam os locais em que a string começa e termina e não fazem parte do valor da string.\n",
        "\n"
      ],
      "metadata": {
        "id": "iK6tutayw17I"
      }
    },
    {
      "cell_type": "code",
      "source": [
        "print('Função print') #Esta função quer dizer “exiba o texto que está na string 'Função print'\"."
      ],
      "metadata": {
        "colab": {
          "base_uri": "https://localhost:8080/"
        },
        "id": "XvR61IkczFkI",
        "outputId": "99b78973-2c53-42d5-a726-03ba1ee79a5f"
      },
      "execution_count": null,
      "outputs": [
        {
          "output_type": "stream",
          "name": "stdout",
          "text": [
            "Função print\n"
          ]
        }
      ]
    },
    {
      "cell_type": "code",
      "source": [
        "print()#Também podemos usar essa função para inserir uma linha em branco na tela"
      ],
      "metadata": {
        "colab": {
          "base_uri": "https://localhost:8080/"
        },
        "id": "7OQzKO8PzvYP",
        "outputId": "213551dc-8818-4f4d-d1f4-4320ef463abd"
      },
      "execution_count": null,
      "outputs": [
        {
          "output_type": "stream",
          "name": "stdout",
          "text": [
            "\n"
          ]
        }
      ]
    },
    {
      "cell_type": "markdown",
      "source": [
        "* `Função input:` Espera o usuário digitar um texto no teclado e pressionar ENTER. pensar na chamada da função input() como uma expressão\n",
        "avaliada com qualquer string que o usuário digitar. Se o usuário digitar 'Al', a expressão será avaliada como myName = 'Al'."
      ],
      "metadata": {
        "id": "-QWa7xUGz9zj"
      }
    },
    {
      "cell_type": "code",
      "source": [
        "digiteSeuNome = input()#escreva um texto com  números e verá que o tipo será string\n",
        "type(digiteSeuNome)\n",
        "print(\"Seu nome é:\" + digiteSeuNome)\n",
        "type(digiteSeuNome)"
      ],
      "metadata": {
        "colab": {
          "base_uri": "https://localhost:8080/"
        },
        "id": "P0hljjT90F3D",
        "outputId": "78363879-100b-4605-c933-d9ea3d866238"
      },
      "execution_count": null,
      "outputs": [
        {
          "output_type": "stream",
          "name": "stdout",
          "text": [
            "teste12\n",
            "Seu nome é:teste12\n"
          ]
        },
        {
          "output_type": "execute_result",
          "data": {
            "text/plain": [
              "str"
            ]
          },
          "metadata": {},
          "execution_count": 12
        }
      ]
    },
    {
      "cell_type": "markdown",
      "source": [
        "> Tipos:\n",
        "\n",
        "\n",
        "*   Números (inteiro/float)\n",
        "*   Strings\n",
        "\n"
      ],
      "metadata": {
        "id": "Z7LHmIz4FrG-"
      }
    },
    {
      "cell_type": "markdown",
      "source": [
        "\n",
        "* `Números:` O python  suporta os os tipos numéricos normais:números inteiros e ponto flutuante, e toda sua sintaxe operações associadas. Ele  permite que você escreva inteiros usando literais em hexadecimal e octal. O Python também tem um tipo de número complexo,assim como um tipo inteiro longo com precisão ilimitada (ele pode crescer até ter tantos dígitos quanto seu espaço em memória permitir). Vamos tratar:\n",
        "*   Inteiros\n",
        "*   Flutuantes(float)\n"
      ],
      "metadata": {
        "id": "ISxkCX78gbtd"
      }
    },
    {
      "cell_type": "code",
      "source": [
        "INTEIROS_NORMAIS = 10\n",
        "print(INTEIROS_NORMAIS)\n",
        "type(INTEIROS_NORMAIS)"
      ],
      "metadata": {
        "colab": {
          "base_uri": "https://localhost:8080/"
        },
        "id": "uuBx-oDuLADT",
        "outputId": "2a145f7c-1a95-4f75-d01d-1563a9774735"
      },
      "execution_count": null,
      "outputs": [
        {
          "output_type": "stream",
          "name": "stdout",
          "text": [
            "10\n"
          ]
        },
        {
          "output_type": "execute_result",
          "data": {
            "text/plain": [
              "int"
            ]
          },
          "metadata": {},
          "execution_count": 1
        }
      ]
    },
    {
      "cell_type": "code",
      "source": [
        "INTEIROS_FLUTUANTE = 1.2\n",
        "print(INTEIROS_FLUTUANTE)\n",
        "type(INTEIROS_FLUTUANTE)\n"
      ],
      "metadata": {
        "colab": {
          "base_uri": "https://localhost:8080/"
        },
        "id": "ZsHSNvvcLI5R",
        "outputId": "880291f7-47ba-48e5-f9f4-693f54dac516"
      },
      "execution_count": null,
      "outputs": [
        {
          "output_type": "stream",
          "name": "stdout",
          "text": [
            "1.2\n"
          ]
        },
        {
          "output_type": "execute_result",
          "data": {
            "text/plain": [
              "float"
            ]
          },
          "metadata": {},
          "execution_count": 2
        }
      ]
    },
    {
      "cell_type": "markdown",
      "source": [
        "* `strings:` O próximo tipo interno importante no Python é conhecido como string- um conjunto ordenado de caracteres,usado para armazenar e representar informações textuais.Da perspectiva funcional,as strings podem ser usadas para representar praticamente tudo que pode ser escri\n",
        "to como texto:símbolos e palavras(seu nome,por exemplo),conteúdo de arquivos de texto carregados na memória,endereços de Internet,programas em Python etc. Vamos ver:\n",
        "\n",
        "*   Aspas simples e duplas\n",
        "*   Len\n",
        "*   Aspas simples e duplas\n",
        "*   Capitalize\n",
        "*   Count\n",
        "*   Upper\n",
        "*   Lower\n",
        "\n"
      ],
      "metadata": {
        "id": "Yu4wVUYPQ_ot"
      }
    },
    {
      "cell_type": "code",
      "source": [
        "texto_aspas_simples = 'Texto escrito em aspas simples'\n",
        "texto_aspas_duplas = \"Texto escrito em aspas duplas. Não há diferença\"\n",
        "print(texto_aspas_simples,texto_aspas_duplas, sep=\"~\")\n",
        "type(texto_aspas_simples)"
      ],
      "metadata": {
        "colab": {
          "base_uri": "https://localhost:8080/"
        },
        "id": "4wsMOoYhRg6Y",
        "outputId": "c7bdfaf5-06ca-4d19-bed8-26dc8be2be1d"
      },
      "execution_count": null,
      "outputs": [
        {
          "output_type": "stream",
          "name": "stdout",
          "text": [
            "Texto escrito em aspas simples~Texto escrito em aspas duplas. Não há diferença\n"
          ]
        },
        {
          "output_type": "execute_result",
          "data": {
            "text/plain": [
              "str"
            ]
          },
          "metadata": {},
          "execution_count": 13
        }
      ]
    },
    {
      "cell_type": "code",
      "source": [
        "comprimento = 'rodrigo'\n",
        "tamanho_texto = len(comprimento) #len = retorna o número de caracteres na string. \n",
        "print(\"Tamanho do texto\", tamanho_texto)"
      ],
      "metadata": {
        "colab": {
          "base_uri": "https://localhost:8080/"
        },
        "id": "2FjVJhA-SD7v",
        "outputId": "1571ee54-10fa-4954-f02b-a3c0242cf434"
      },
      "execution_count": null,
      "outputs": [
        {
          "output_type": "stream",
          "name": "stdout",
          "text": [
            "Tamanho do texto 7\n"
          ]
        }
      ]
    },
    {
      "cell_type": "code",
      "source": [
        "capitalizar = comprimento.capitalize() #capitalize = retorna uma cópia da string original e converte o primeiro caractere da string em uma letra maiúscula (maiúscula) , enquanto todos os outros caracteres da string são convertidos em letras minúsculas .\n",
        "print(capitalizar)"
      ],
      "metadata": {
        "colab": {
          "base_uri": "https://localhost:8080/"
        },
        "id": "xpeiXA8dTKWR",
        "outputId": "9630320d-d275-4629-d2b7-c88b4bee34fc"
      },
      "execution_count": null,
      "outputs": [
        {
          "output_type": "stream",
          "name": "stdout",
          "text": [
            "Rodrigo\n"
          ]
        }
      ]
    },
    {
      "cell_type": "code",
      "source": [
        "contador = comprimento.count(\"o\") # retorna o número de elementos com o valor especificado.\n",
        "print(\"rodrigo tem\", contador, \"o's\")"
      ],
      "metadata": {
        "colab": {
          "base_uri": "https://localhost:8080/"
        },
        "id": "Enretde-TSpp",
        "outputId": "9a4e800c-bd75-4f7c-ff0a-513b7f318a6b"
      },
      "execution_count": null,
      "outputs": [
        {
          "output_type": "stream",
          "name": "stdout",
          "text": [
            "rodrigo tem 2 o's\n"
          ]
        }
      ]
    },
    {
      "cell_type": "code",
      "source": [
        "maiusculo = comprimento.upper() #converte todos os caracteres minúsculos em  maiúsculos\n",
        "print(maiusculo)"
      ],
      "metadata": {
        "colab": {
          "base_uri": "https://localhost:8080/"
        },
        "id": "oce8hxVIURsl",
        "outputId": "3a6f6956-4534-41c5-f30d-bd83e1978f41"
      },
      "execution_count": null,
      "outputs": [
        {
          "output_type": "stream",
          "name": "stdout",
          "text": [
            "RODRIGO\n"
          ]
        }
      ]
    },
    {
      "cell_type": "code",
      "source": [
        "minusculo = comprimento.lower() #converte todos os caracteres maiúsculos em  minúsculos\n",
        "print(minusculo)"
      ],
      "metadata": {
        "colab": {
          "base_uri": "https://localhost:8080/"
        },
        "id": "Btn8gSXKUWu8",
        "outputId": "9aa55287-bfda-4c40-e1b5-d1a79e69a34e"
      },
      "execution_count": null,
      "outputs": [
        {
          "output_type": "stream",
          "name": "stdout",
          "text": [
            "rodrigo\n"
          ]
        }
      ]
    },
    {
      "cell_type": "markdown",
      "source": [
        "> Listas:<br><br>\n",
        "\n",
        "  Conjunto sequencial de valores(tem começo e fim). No python, definimos uma lista com colchetes [].Se eu quero um conjunto de dados que eu queira manipular, tem-se que colocar [entre colchetes].\n"
      ],
      "metadata": {
        "id": "vOTLxfWLFio-"
      }
    },
    {
      "cell_type": "code",
      "source": [
        " #importancia dos colchetes\n",
        " Variavel = 15,16,17 #Sem colocar os colchetes, temos uma tupla e não uma lista. \n",
        " print(Variavel) # No print teremos o resultado entre parênteses.\n",
        " type(Variavel)"
      ],
      "metadata": {
        "colab": {
          "base_uri": "https://localhost:8080/"
        },
        "id": "wLofPwLgUhRJ",
        "outputId": "42880237-9e27-4187-c485-461fab8d8b05"
      },
      "execution_count": null,
      "outputs": [
        {
          "output_type": "stream",
          "name": "stdout",
          "text": [
            "(15, 16, 17)\n"
          ]
        },
        {
          "output_type": "execute_result",
          "data": {
            "text/plain": [
              "tuple"
            ]
          },
          "metadata": {},
          "execution_count": 18
        }
      ]
    },
    {
      "cell_type": "code",
      "source": [
        "                            #Listas (No pandas falamos listas no Numpy é  array )\n",
        "Lista = [10,11,12, \"texto1\", \"texto2\"] #Em uma lista podemos trabalhar tanto com números quanto com texto\n",
        "print(Lista) # No print teremos o resultado entre colchetes.\n",
        "type(Lista)"
      ],
      "metadata": {
        "colab": {
          "base_uri": "https://localhost:8080/"
        },
        "id": "70kZXdvwH4cn",
        "outputId": "bfd92055-6f86-47d6-e001-6139f79969f1"
      },
      "execution_count": null,
      "outputs": [
        {
          "output_type": "stream",
          "name": "stdout",
          "text": [
            "[10, 11, 12, 'texto1', 'texto2']\n"
          ]
        },
        {
          "output_type": "execute_result",
          "data": {
            "text/plain": [
              "list"
            ]
          },
          "metadata": {},
          "execution_count": 2
        }
      ]
    },
    {
      "cell_type": "code",
      "source": [
        "                            #Se eu quero que retorne apenas o número 12, tenho que colocar no print o número 2 em vez de 3\n",
        "                            # porque temos que começar a contar pelo zero.A lista não vai de 1 a n e sim de 0 a n\n",
        "Lista = [10,11,12, \"texto1\", \"texto2\"] #Em uma lista podemos trabalhar tanto com números quanto com texto\n",
        "print(Lista[2]) # 10 = 0, 11 = 1, 12 = 2\n",
        "type(Lista)"
      ],
      "metadata": {
        "colab": {
          "base_uri": "https://localhost:8080/"
        },
        "id": "TC4s8HEUJLXA",
        "outputId": "024c76e0-e6f9-47f8-a8bb-05c2551bcdd9"
      },
      "execution_count": null,
      "outputs": [
        {
          "output_type": "stream",
          "name": "stdout",
          "text": [
            "12\n"
          ]
        },
        {
          "output_type": "execute_result",
          "data": {
            "text/plain": [
              "list"
            ]
          },
          "metadata": {},
          "execution_count": 3
        }
      ]
    },
    {
      "cell_type": "code",
      "source": [
        "                            #Vamos inserir uma lista dentro de outra lista😁\n",
        "Lista = [10,11,12, \"texto1\", \"texto2\", [25,26,27]] \n",
        "print(\"Selecionando apenas o elemento 5, iremos acessar os 3 elementos da lista:\",Lista[5]) #Selecionando apenas o elemento 5, iremos acessar os 3 elementos da lista\n",
        "print(\"Colocamos novamente o colchete e agorar conseguiremos acessar o apenas o número 25. Resultado:\",Lista[5][0]) #E seu quisesse acessar apenas o número 25? Da mesma forma que eu acessei a lista anterior contando a partir de zero. Vamos fazer da mesma forma.\n",
        "                                                                                                                    # Assim como inserimos uma lista de dentro de outra lista, podemos inserir várias outras. Não é saudável, mas podemos fazer.\n",
        "type(Lista)"
      ],
      "metadata": {
        "colab": {
          "base_uri": "https://localhost:8080/"
        },
        "id": "QTriCcPHNTn3",
        "outputId": "733c8b0f-3847-4356-f76c-45856fbd1328"
      },
      "execution_count": null,
      "outputs": [
        {
          "output_type": "stream",
          "name": "stdout",
          "text": [
            "Selecionando apenas o elemento 5, iremos acessar os 3 elementos da lista: [25, 26, 27]\n",
            "Colocamos novamente o colchete e agorar conseguiremos acessar o apenas o número 25. Resultado: 25\n"
          ]
        },
        {
          "output_type": "execute_result",
          "data": {
            "text/plain": [
              "list"
            ]
          },
          "metadata": {},
          "execution_count": 4
        }
      ]
    },
    {
      "cell_type": "code",
      "source": [
        "                           #Sabia que podemos usar o Len dentro de uma lista?😁\n",
        "len(Lista)# a lista tem 6 elementos, sendo assim o index dela vai de 0 a 5\n"
      ],
      "metadata": {
        "colab": {
          "base_uri": "https://localhost:8080/"
        },
        "id": "bY1HNsOCQKsx",
        "outputId": "a679ba76-b903-4153-8bf4-4a5956040405"
      },
      "execution_count": null,
      "outputs": [
        {
          "output_type": "execute_result",
          "data": {
            "text/plain": [
              "6"
            ]
          },
          "metadata": {},
          "execution_count": 7
        }
      ]
    },
    {
      "cell_type": "code",
      "source": [
        "Lista[6] # se colocarmos um index que nao esta na proporção(range) da lista, retornará com erro\n",
        "          # A proporção de index e tamanho da lista sempre vai ser o tamanho maximo da lista -1 "
      ],
      "metadata": {
        "colab": {
          "base_uri": "https://localhost:8080/",
          "height": 190
        },
        "id": "nRQwUcooRMMS",
        "outputId": "ef2b30ee-01d1-4798-9cce-035b25e37593"
      },
      "execution_count": null,
      "outputs": [
        {
          "output_type": "error",
          "ename": "NameError",
          "evalue": "ignored",
          "traceback": [
            "\u001b[0;31m---------------------------------------------------------------------------\u001b[0m",
            "\u001b[0;31mNameError\u001b[0m                                 Traceback (most recent call last)",
            "\u001b[0;32m<ipython-input-22-0e6b7fba5bf9>\u001b[0m in \u001b[0;36m<module>\u001b[0;34m()\u001b[0m\n\u001b[0;32m----> 1\u001b[0;31m \u001b[0mLista\u001b[0m\u001b[0;34m[\u001b[0m\u001b[0;36m6\u001b[0m\u001b[0;34m]\u001b[0m \u001b[0;31m# se colocarmos um index que nao esta na proporção(range) da lista, retornará com erro\u001b[0m\u001b[0;34m\u001b[0m\u001b[0;34m\u001b[0m\u001b[0m\n\u001b[0m\u001b[1;32m      2\u001b[0m           \u001b[0;31m# A proporção de index e tamanho da lista sempre vai ser o tamanho maximo da lista -1\u001b[0m\u001b[0;34m\u001b[0m\u001b[0;34m\u001b[0m\u001b[0;34m\u001b[0m\u001b[0m\n",
            "\u001b[0;31mNameError\u001b[0m: name 'Lista' is not defined"
          ]
        }
      ]
    },
    {
      "cell_type": "code",
      "source": [
        "tamanho = len(Lista)\n",
        "Lista[tamanho - 1] # Agr eu consigo ate fazer manipulações para acessar os itens da lista"
      ],
      "metadata": {
        "colab": {
          "base_uri": "https://localhost:8080/"
        },
        "id": "bEw_dOJ2R807",
        "outputId": "ef114601-adef-4993-8542-6ee602ce21ca"
      },
      "execution_count": null,
      "outputs": [
        {
          "output_type": "execute_result",
          "data": {
            "text/plain": [
              "[25, 26, 27]"
            ]
          },
          "metadata": {},
          "execution_count": 10
        }
      ]
    },
    {
      "cell_type": "code",
      "source": [
        "                                                     # Outras funções da Lista\n",
        "Lista = [10,20,30,40,2,1]\n",
        "\n",
        "tamanho =len(Lista)\n",
        "print(\"tamanho da lista:\", tamanho)\n",
        "\n",
        "menor_valor = min(Lista)\n",
        "print(\"o menor valor da lista é\", menor_valor)\n",
        "\n",
        "maior_valor = max(Lista)\n",
        "print(\"o maior valor é\", maior_valor)\n",
        "\n",
        "soma = sum(Lista)\n",
        "print(\"A soma da lista é\", soma)\n",
        "\n",
        "Lista.append(999)\n",
        "print(\"Iremos acrescentar o 999\",Lista)\n",
        "\n",
        "Lista.sort()# vamos ordenar a lista \n",
        "print(\"Estamos ordenando a lista\",Lista)\n",
        "\n",
        "Lista.pop(5) #vamos remover o quinto elemento da lista(1)\n",
        "print(\"Removemos o quinto elemento da Lista\",Lista)\n",
        "\n",
        "Lista.pop() #Se eu nao definir um elemento de exclusão, o pop exclui o último elemento\n",
        "print(\"Se eu nao definir um elemento de exclusão, o pop exclui o último elemento\",Lista)\n"
      ],
      "metadata": {
        "colab": {
          "base_uri": "https://localhost:8080/"
        },
        "id": "7oCTcq-fSjGH",
        "outputId": "e2174f57-5119-49ae-f7b9-34c849c6a904"
      },
      "execution_count": null,
      "outputs": [
        {
          "output_type": "stream",
          "name": "stdout",
          "text": [
            "tamanho da lista: 6\n",
            "o menor valor da lista é 1\n",
            "o maior valor é 40\n",
            "A soma da lista é 103\n",
            "Iremos acrescentar o 999 [10, 20, 30, 40, 2, 1, 999]\n",
            "Estamos ordenando a lista [1, 2, 10, 20, 30, 40, 999]\n",
            "Removemos o quinto elemento da Lista [1, 2, 10, 20, 30, 999]\n",
            "Se eu nao definir um elemento de exclusão, o pop exclui o último elemento [1, 2, 10, 20, 30]\n"
          ]
        }
      ]
    },
    {
      "cell_type": "code",
      "source": [
        "                    #Valores Booleanos(retorna apenas dois tipos, true ou false)\n",
        "lista = ['pedro', \"joão\", \"luiz\"]\n",
        "\n",
        "\"joão\" in lista #quero saber se o nome joão esta na lista\n"
      ],
      "metadata": {
        "colab": {
          "base_uri": "https://localhost:8080/"
        },
        "id": "_NDQvQdIWAiY",
        "outputId": "f0702d81-9eda-4914-88d0-869685128d54"
      },
      "execution_count": null,
      "outputs": [
        {
          "output_type": "execute_result",
          "data": {
            "text/plain": [
              "True"
            ]
          },
          "metadata": {},
          "execution_count": 30
        }
      ]
    },
    {
      "cell_type": "code",
      "source": [
        "lista = ['pedro', \"joão\", \"luiz\"]\n",
        "\n",
        "\"João\" in lista #O python é case sensitive(se importa com letra maiuscula e minuscula), então se eu colocar João(inicial maiuscula, irá retornar False)"
      ],
      "metadata": {
        "colab": {
          "base_uri": "https://localhost:8080/"
        },
        "id": "Y4jSHE_uXB2T",
        "outputId": "a2e488bc-cb02-4a39-9082-01ea23c60793"
      },
      "execution_count": null,
      "outputs": [
        {
          "output_type": "execute_result",
          "data": {
            "text/plain": [
              "False"
            ]
          },
          "metadata": {},
          "execution_count": 32
        }
      ]
    },
    {
      "cell_type": "code",
      "source": [
        "#Concatenção de listas\n",
        "lista = ['pedro', \"joão\", \"luiz\"]\n",
        "lista2 = [10,20,30,40,2,1]\n",
        "print(\"Estamos concatenando listas:\", lista + lista2)\n",
        "\n",
        "lista = [1,2]#repetição de uma lista\n",
        "print(lista * 5)\n"
      ],
      "metadata": {
        "colab": {
          "base_uri": "https://localhost:8080/"
        },
        "id": "jXYfpro5YXMq",
        "outputId": "990466c6-ed20-48f6-af8d-a26b09dab61b"
      },
      "execution_count": null,
      "outputs": [
        {
          "output_type": "stream",
          "name": "stdout",
          "text": [
            "Estamos concatenando listas: ['pedro', 'joão', 'luiz', 10, 20, 30, 40, 2, 1]\n",
            "[1, 2, 1, 2, 1, 2, 1, 2, 1, 2]\n"
          ]
        }
      ]
    },
    {
      "cell_type": "code",
      "source": [
        "# Fatiamento de uma lista\n",
        "lista = ['pedro', \"joão\", \"luiz\", 10,20,30,40,2,1]\n",
        "\n",
        "fatia1 = lista[2:4]#quero pegar: luiz(2), 10,20(4)\n",
        "print(\"vai retornar o último elemento= 10, mesmo eu querendo 20. Na proxima execução vai vir o correto:\",fatia1)\n"
      ],
      "metadata": {
        "colab": {
          "base_uri": "https://localhost:8080/"
        },
        "id": "H0ICgAzzCgDT",
        "outputId": "9fce5b98-06ff-4d02-efae-c5148d9c9530"
      },
      "execution_count": null,
      "outputs": [
        {
          "output_type": "stream",
          "name": "stdout",
          "text": [
            "vai retornar o último elemento= 10, mesmo eu querendo 20. Na proxima execução vai vir o correto: ['luiz', 10]\n"
          ]
        }
      ]
    },
    {
      "cell_type": "code",
      "source": [
        "# Fatiamento de uma lista\n",
        "lista = ['pedro', \"joão\", \"luiz\", 10,20,30,40,2,1]\n",
        "\n",
        "fatia1 = lista[2:5]#O index final sempre pega o anterior, então se eu quero 20, tem vez de colocar 4, tenho que colocar 5.\n",
        "print(\"Agora sim, quero o luiz, 10 e 20 e Retornou:\",fatia1)\n",
        "\n",
        "fatia2 = lista[2:] #quero pegar do luiz ate o final\n",
        "print(\"Quero pegar do luiz ate o final e Retornou:\",fatia1)\n",
        "\n",
        "fatia3 = lista[:3] #quero pegar apenas os nomes.Lembrando q seu quero pegar  ate o luiz, o meu index final tem que ser 3\n",
        "print(\"Quero pegar apenas os nomes. Retornou:\",fatia1)"
      ],
      "metadata": {
        "colab": {
          "base_uri": "https://localhost:8080/"
        },
        "id": "PI67C0SoDtyC",
        "outputId": "82167653-deb3-4ce3-9405-9a1f6e4eb630"
      },
      "execution_count": null,
      "outputs": [
        {
          "output_type": "stream",
          "name": "stdout",
          "text": [
            "Agora sim, quero o luiz, 10 e 20 e Retornou: ['luiz', 10, 20]\n",
            "Quero pegar do luiz ate o final e Retornou: ['luiz', 10, 20]\n",
            "Quero pegar apenas os nomes. Retornou: ['luiz', 10, 20]\n"
          ]
        }
      ]
    },
    {
      "cell_type": "code",
      "source": [
        "#quero uma lista de 1 a 10. Então vamos criá-la usando o range.\n",
        "\n",
        "lista = range(1,10)\n",
        "print(\"Vai retornar apenas dois elementos, porque o python ja entende como uma lista de 1 a 10, apenas não deixa visível:\",lista)\n",
        "\n",
        "lista = range(1,10)\n",
        "list(lista)#Para conseguirmos visualizar, temos que usar o list\n",
        "\n",
        "lista = range(1,11)\n",
        "list(lista)# e se quisermos realmente os numeros de 1 a 10? Temos que colocar um a mais no index.\n",
        "\n"
      ],
      "metadata": {
        "colab": {
          "base_uri": "https://localhost:8080/"
        },
        "id": "0nWweWYhFc2v",
        "outputId": "92cc418b-0a75-4846-9c88-6036decd18da"
      },
      "execution_count": null,
      "outputs": [
        {
          "output_type": "stream",
          "name": "stdout",
          "text": [
            "Vai retornar apenas dois elementos, porque o python ja entende como uma lista de 1 a 10, apenas não deixa visível: range(1, 10)\n"
          ]
        },
        {
          "output_type": "execute_result",
          "data": {
            "text/plain": [
              "[1, 2, 3, 4, 5, 6, 7, 8, 9, 10]"
            ]
          },
          "metadata": {},
          "execution_count": 19
        }
      ]
    },
    {
      "cell_type": "code",
      "source": [
        "lista = range(10)\n",
        "list(lista)# e se quisermos uma lista com tamanho 10? Ele vai me mostrar ate o nove, pois esta contando com zero"
      ],
      "metadata": {
        "colab": {
          "base_uri": "https://localhost:8080/"
        },
        "id": "YgoMjo4SHbLq",
        "outputId": "276cff41-2379-40f2-d076-f98ebe814141"
      },
      "execution_count": null,
      "outputs": [
        {
          "output_type": "execute_result",
          "data": {
            "text/plain": [
              "[0, 1, 2, 3, 4, 5, 6, 7, 8, 9]"
            ]
          },
          "metadata": {},
          "execution_count": 20
        }
      ]
    },
    {
      "cell_type": "code",
      "source": [
        "#lista com staps\n",
        "\n",
        "lista = range(1,101,5)# quero que a lista pule de 5 em 5\n",
        "list(lista)"
      ],
      "metadata": {
        "colab": {
          "base_uri": "https://localhost:8080/"
        },
        "id": "h8tGYCEuH5KA",
        "outputId": "7d84019c-f37f-4afd-8c94-8654ea2169d0"
      },
      "execution_count": null,
      "outputs": [
        {
          "output_type": "execute_result",
          "data": {
            "text/plain": [
              "[1, 6, 11, 16, 21, 26, 31, 36, 41, 46, 51, 56, 61, 66, 71, 76, 81, 86, 91, 96]"
            ]
          },
          "metadata": {},
          "execution_count": 21
        }
      ]
    },
    {
      "cell_type": "markdown",
      "source": [
        ""
      ],
      "metadata": {
        "id": "B-bD64qwIkXj"
      }
    },
    {
      "cell_type": "markdown",
      "source": [
        "> ***DESAFIO***\n",
        "\n",
        "\n",
        "Dada a lista L = [5, 7, 2, 9, 4, 1, 3], escreva um programa que imprima as seguintes informações:\n",
        "\n",
        "\n",
        "1.  tamanho da lista.\n",
        "2.  maior valor da lista.\n",
        "3.  menor valor da lista.\n",
        "4. soma de todos os elementos da lista.\n",
        "5. lista em ordem crescente.\n",
        "6.  lista em ordem decrescente.\n",
        "7. Gere uma lista de contendo os múltiplos de 3 entre 1 e 50."
      ],
      "metadata": {
        "id": "yO5VioaYIkag"
      }
    },
    {
      "cell_type": "code",
      "source": [
        "Lista = [5, 7, 2, 9, 4, 1, 3]\n",
        "\n",
        "TamanhoLista = len(Lista)\n",
        "print(\"Tamanho da lista\", TamanhoLista)\n",
        "\n",
        "\n",
        "maior_valor = max(Lista)\n",
        "print(\"O maior valor é\", maior_valor)\n",
        "      \n",
        "\n",
        "menor_valor = min(Lista)\n",
        "print(\"o menor valor da lista é\", menor_valor)\n",
        "\n",
        "soma = sum(Lista)\n",
        "print(\"A soma da lista é\", soma)\n",
        "\n",
        "Lista.sort()\n",
        "print(\"A ordem crescente da  lista é\", Lista)\n",
        "\n",
        "Lista.reverse()\n",
        "print(\"A ordem decrescente da  lista é\", Lista)\n",
        "\n",
        "Lista = range(1, 51, 3) #Gere uma lista de contendo os múltiplos de 3 entre 1 e 50.\n",
        "list(Lista)"
      ],
      "metadata": {
        "colab": {
          "base_uri": "https://localhost:8080/"
        },
        "id": "If4fMiYyI2bG",
        "outputId": "c7b0b8be-3cd7-4f26-ddbc-63cd2d40c23d"
      },
      "execution_count": null,
      "outputs": [
        {
          "output_type": "stream",
          "name": "stdout",
          "text": [
            "Tamanho da lista 7\n",
            "O maior valor é 9\n",
            "o menor valor da lista é 1\n",
            "A soma da lista é 31\n",
            "A ordem crescente da  lista é [1, 2, 3, 4, 5, 7, 9]\n",
            "A ordem crescente da  lista é [9, 7, 5, 4, 3, 2, 1]\n"
          ]
        },
        {
          "output_type": "execute_result",
          "data": {
            "text/plain": [
              "[1, 4, 7, 10, 13, 16, 19, 22, 25, 28, 31, 34, 37, 40, 43, 46, 49]"
            ]
          },
          "metadata": {},
          "execution_count": 10
        }
      ]
    },
    {
      "cell_type": "markdown",
      "source": [
        "> ***DESAFIO 2***\n",
        "\n",
        "1.  Escreva um teste de numeros impares.\n",
        "2.  Escreva um teste de numeros pares."
      ],
      "metadata": {
        "id": "5Ajqr9N_ozxH"
      }
    },
    {
      "cell_type": "code",
      "source": [
        "#1\n",
        "# um teste de numeros impares\n",
        "x = 1\n",
        "\n",
        "if x%2 != 0:\n",
        "  print(\"Impar\")\n",
        "else:\n",
        "  print(\"...\")"
      ],
      "metadata": {
        "id": "LodiwylWI8iQ"
      },
      "execution_count": null,
      "outputs": []
    },
    {
      "cell_type": "code",
      "source": [
        "#2\n",
        "# um teste de numeros pares\n",
        "x = 2\n",
        "\n",
        "if x%2 != 0:\n",
        "  print(\"Impar\")\n",
        "else:\n",
        "  print(\"par\")"
      ],
      "metadata": {
        "id": "2XWJfWbZo1t1"
      },
      "execution_count": null,
      "outputs": []
    }
  ]
}